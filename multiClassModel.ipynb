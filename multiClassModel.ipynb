{
 "cells": [
  {
   "cell_type": "code",
   "execution_count": 3,
   "metadata": {},
   "outputs": [],
   "source": [
    "import os\n",
    "import matplotlib.pyplot as plt\n",
    "from tensorflow.keras.preprocessing.image import ImageDataGenerator\n",
    "import tensorflow as tf\n",
    "import numpy as np\n",
    "from itertools import cycle\n",
    "from sklearn import svm, datasets\n",
    "from sklearn.model_selection import train_test_split\n",
    "from sklearn.multiclass import OneVsRestClassifier\n",
    "import wandb\n",
    "from wandb.keras import WandbMetricsLogger, WandbModelCheckpoint"
   ]
  },
  {
   "cell_type": "code",
   "execution_count": 20,
   "metadata": {},
   "outputs": [
    {
     "name": "stdout",
     "output_type": "stream",
     "text": [
      "Found 10652 images belonging to 3 classes.\n",
      "Found 180 images belonging to 3 classes.\n"
     ]
    }
   ],
   "source": [
    "train_datagen = ImageDataGenerator(rescale=1/255)\n",
    "validation_datagen = ImageDataGenerator(rescale=1/255)\n",
    "\n",
    "train_generator = train_datagen.flow_from_directory(\n",
    "    \"training/MultiClassification/train\",\n",
    "    classes = [\"humidity\", \"none\", \"scale\"],\n",
    "    target_size=(200,200),\n",
    "    batch_size=120,\n",
    "    class_mode=\"categorical\",\n",
    "    shuffle=False)\n",
    "\n",
    "valid_generator = validation_datagen.flow_from_directory(\n",
    "    \"training/MultiClassification/valid\",\n",
    "    classes = [\"humidity\", \"none\", \"scale\"],\n",
    "    target_size=(200,200),\n",
    "    batch_size=120,\n",
    "    class_mode=\"categorical\",\n",
    "    shuffle=False)"
   ]
  },
  {
   "cell_type": "code",
   "execution_count": 21,
   "metadata": {},
   "outputs": [],
   "source": [
    "wandb.login()\n",
    "\n",
    "def make_model():\n",
    "    inputs = tf.keras.layers.Flatten(input_shape=(200,200,3))\n",
    "    x1 = tf.keras.layers.Dense(128, activation=tf.nn.relu)(inputs)\n",
    "    x2 = tf.keras.layers.Dense(128, activation=tf.nn.relu)(x1)\n",
    "    x3 = tf.keras.layers.Dense(128, activation=tf.nn.relu)(x2)\n",
    "    outputs = tf.keras.layers.Dense(3, activation=tf.nn.sigmoid)(x3)\n",
    "\n",
    "    return tf.keras.Model(inputs=inputs, outputs=outputs)\n",
    "\n",
    "def train_step(x, y, model, optimizer, loss_fn, train_acc_metric):\n",
    "\n",
    "    with tf.GradientTape() as tape:\n",
    "        logits = model(x, training=True)\n",
    "        loss_value = loss_fn(y, logits)\n",
    "\n",
    "    grads = tape.gradient(loss_value, model.trainable_weights)\n",
    "    optimizer.apply_gradients(zip(grads, model.trainable_weights))\n",
    "\n",
    "    train_acc_metric.update_state(y, logits)\n",
    "\n",
    "    return loss_value\n",
    "\n",
    "def test_step(x, y, model, loss_fn, val_acc_metric):\n",
    "    val_logits = model(x, training=False)\n",
    "    loss_value = loss_fn(y, val_logits)\n",
    "    val_acc_metric.update_state(y, val_logits)\n",
    "\n",
    "    return loss_value"
   ]
  },
  {
   "cell_type": "code",
   "execution_count": null,
   "metadata": {},
   "outputs": [],
   "source": [
    "def train(train_dataset, val_dataset,  model, optimizer, train_acc_metric, val_acc_metric, epochs=10,  log_step=200, val_log_step=50):\n",
    "  \n",
    "    for epoch in range(epochs):\n",
    "        print(\"\\nStart of epoch %d\" % (epoch,))\n",
    "\n",
    "        train_loss = []   \n",
    "        val_loss = []\n",
    "\n",
    "        # Iterate over the batches of the dataset\n",
    "        for step, (x_batch_train, y_batch_train) in enumerate(train_dataset):\n",
    "            loss_value = train_step(x_batch_train, y_batch_train, model, optimizer, loss_fn, train_acc_metric)\n",
    "            train_loss.append(float(loss_value))\n",
    "\n",
    "        # Run a validation loop at the end of each epoch\n",
    "        for step, (x_batch_val, y_batch_val) in enumerate(val_dataset):\n",
    "            val_loss_value = test_step(x_batch_val, y_batch_val, \n",
    "                                       model, loss_fn, \n",
    "                                       val_acc_metric)\n",
    "            val_loss.append(float(val_loss_value))\n",
    "            \n",
    "        # Display metrics at the end of each epoch\n",
    "        train_acc = train_acc_metric.result()\n",
    "        print(\"Training acc over epoch: %.4f\" % (float(train_acc),))\n",
    "\n",
    "        val_acc = val_acc_metric.result()\n",
    "        print(\"Validation acc: %.4f\" % (float(val_acc),))\n",
    "\n",
    "        # Reset metrics at the end of each epoch\n",
    "        train_acc_metric.reset_states()\n",
    "        val_acc_metric.reset_states()\n",
    "\n",
    "        # ⭐: log metrics using wandb.log\n",
    "        wandb.log({'epochs': epoch,\n",
    "                   'loss': np.mean(train_loss),\n",
    "                   'acc': float(train_acc), \n",
    "                   'val_loss': np.mean(val_loss),\n",
    "                   'val_acc':float(val_acc)})"
   ]
  },
  {
   "cell_type": "code",
   "execution_count": 22,
   "metadata": {},
   "outputs": [],
   "source": [
    "model.compile(optimizer=tf.optimizers.Adam(),\n",
    "              loss=\"binary_crossentropy\",\n",
    "              metrics=[\"accuracy\"])"
   ]
  },
  {
   "cell_type": "code",
   "execution_count": 23,
   "metadata": {},
   "outputs": [
    {
     "name": "stdout",
     "output_type": "stream",
     "text": [
      "Epoch 1/15\n",
      "8/8 [==============================] - ETA: 0s - loss: 37.2176 - accuracy: 0.5073WARNING:tensorflow:Your input ran out of data; interrupting training. Make sure that your dataset or generator can generate at least `steps_per_epoch * epochs` batches (in this case, 8 batches). You may need to use the repeat() function when building your dataset.\n",
      "8/8 [==============================] - 3s 310ms/step - loss: 37.2176 - accuracy: 0.5073 - val_loss: 71.9982 - val_accuracy: 0.3333\n",
      "Epoch 2/15\n",
      "8/8 [==============================] - 2s 239ms/step - loss: 27.8459 - accuracy: 0.7500\n",
      "Epoch 3/15\n",
      "8/8 [==============================] - 2s 236ms/step - loss: 0.0035 - accuracy: 1.0000\n",
      "Epoch 4/15\n",
      "8/8 [==============================] - 2s 235ms/step - loss: 4.5701 - accuracy: 0.7281\n",
      "Epoch 5/15\n",
      "8/8 [==============================] - 2s 241ms/step - loss: 1.8971 - accuracy: 0.8750\n",
      "Epoch 6/15\n",
      "8/8 [==============================] - 2s 235ms/step - loss: 1.6332 - accuracy: 0.7573\n",
      "Epoch 7/15\n",
      "8/8 [==============================] - 2s 235ms/step - loss: 8.7270 - accuracy: 0.6250\n",
      "Epoch 8/15\n",
      "8/8 [==============================] - 2s 237ms/step - loss: 0.4775 - accuracy: 1.0000\n",
      "Epoch 9/15\n",
      "8/8 [==============================] - 2s 239ms/step - loss: 1.6248 - accuracy: 0.8750\n",
      "Epoch 10/15\n",
      "8/8 [==============================] - 2s 231ms/step - loss: 1.3497 - accuracy: 0.7385\n",
      "Epoch 11/15\n",
      "8/8 [==============================] - 2s 232ms/step - loss: 0.4068 - accuracy: 0.9677\n",
      "Epoch 12/15\n",
      "8/8 [==============================] - 2s 228ms/step - loss: 0.0128 - accuracy: 1.0000\n",
      "Epoch 13/15\n",
      "8/8 [==============================] - 2s 235ms/step - loss: 1.1988 - accuracy: 0.8427\n",
      "Epoch 14/15\n",
      "8/8 [==============================] - 2s 233ms/step - loss: 1.7552 - accuracy: 0.6250\n",
      "Epoch 15/15\n",
      "8/8 [==============================] - 2s 230ms/step - loss: 0.5294 - accuracy: 0.4635\n"
     ]
    }
   ],
   "source": [
    "history = model.fit(\n",
    "      train_generator,\n",
    "      steps_per_epoch=8,  \n",
    "      epochs=15,\n",
    "      verbose=1,\n",
    "      validation_data = valid_generator,\n",
    "      validation_steps=8)"
   ]
  },
  {
   "cell_type": "code",
   "execution_count": 24,
   "metadata": {},
   "outputs": [
    {
     "name": "stdout",
     "output_type": "stream",
     "text": [
      "4/4 [==============================] - 0s 51ms/step - loss: 0.6816 - accuracy: 0.4056\n"
     ]
    }
   ],
   "source": [
    "test_loss, test_acc = model.evaluate(valid_generator)"
   ]
  },
  {
   "cell_type": "code",
   "execution_count": 14,
   "metadata": {},
   "outputs": [
    {
     "data": {
      "image/png": "[encoded data removed]",
      "text/plain": [
       "<Figure size 640x480 with 1 Axes>"
      ]
     },
     "metadata": {},
     "output_type": "display_data"
    }
   ],
   "source": [
    "\n",
    "a = history.history\n",
    "plt.plot(a[\"loss\"], label=\"train\")\n",
    "plt.plot(a[\"val_accuracy\"], label=\"train\")\n",
    "plt.legend()\n",
    "plt.show()"
   ]
  }
 ],
 "metadata": {
  "kernelspec": {
   "display_name": "venv",
   "language": "python",
   "name": "python3"
  },
  "language_info": {
   "codemirror_mode": {
    "name": "ipython",
    "version": 3
   },
   "file_extension": ".py",
   "mimetype": "text/x-python",
   "name": "python",
   "nbconvert_exporter": "python",
   "pygments_lexer": "ipython3",
   "version": "3.11.3"
  },
  "orig_nbformat": 4
 },
 "nbformat": 4,
 "nbformat_minor": 2
}
