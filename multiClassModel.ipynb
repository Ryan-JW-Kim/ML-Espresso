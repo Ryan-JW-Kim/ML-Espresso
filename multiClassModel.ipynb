{
 "cells": [
  {
   "cell_type": "code",
   "execution_count": 1,
   "metadata": {},
   "outputs": [],
   "source": [
    "import os\n",
    "import zipfile\n",
    "import matplotlib.pyplot as plt\n",
    "from tensorflow.keras.preprocessing.image import ImageDataGenerator\n",
    "import tensorflow as tf\n",
    "import numpy as np\n",
    "from itertools import cycle\n",
    "from sklearn import svm, datasets\n",
    "from sklearn.metrics import roc_curve, auc\n",
    "from sklearn.model_selection import train_test_split\n",
    "from sklearn.preprocessing import label_binarize\n",
    "from sklearn.multiclass import OneVsRestClassifier\n",
    "from scipy import interp\n",
    "from sklearn.metrics import roc_auc_score"
   ]
  },
  {
   "cell_type": "code",
   "execution_count": 2,
   "metadata": {},
   "outputs": [
    {
     "name": "stdout",
     "output_type": "stream",
     "text": [
      "Found 10652 images belonging to 3 classes.\n",
      "Found 180 images belonging to 3 classes.\n"
     ]
    }
   ],
   "source": [
    "train_datagen = ImageDataGenerator(rescale=1/255)\n",
    "validation_datagen = ImageDataGenerator(rescale=1/255)\n",
    "\n",
    "train_generator = train_datagen.flow_from_directory(\n",
    "    \"training/MultiClassification/train\",\n",
    "    classes = [\"humidity\", \"none\", \"scale\"],\n",
    "    target_size=(200,200),\n",
    "    batch_size=120,\n",
    "    class_mode=\"categorical\",\n",
    "    shuffle=False)\n",
    "\n",
    "valid_generator = validation_datagen.flow_from_directory(\n",
    "    \"training/MultiClassification/valid\",\n",
    "    classes = [\"humidity\", \"none\", \"scale\"],\n",
    "    target_size=(200,200),\n",
    "    batch_size=120,\n",
    "    class_mode=\"categorical\",\n",
    "    shuffle=False)"
   ]
  },
  {
   "cell_type": "code",
   "execution_count": 3,
   "metadata": {},
   "outputs": [],
   "source": [
    "model = tf.keras.models.Sequential([\n",
    "    tf.keras.layers.Flatten(input_shape=(200,200,3)),\n",
    "    tf.keras.layers.Dense(128, activation=tf.nn.relu),\n",
    "    tf.keras.layers.Dense(3, activation=tf.nn.sigmoid)\n",
    "])"
   ]
  },
  {
   "cell_type": "code",
   "execution_count": 4,
   "metadata": {},
   "outputs": [],
   "source": [
    "model.compile(optimizer=tf.optimizers.Adam(),\n",
    "              loss=\"binary_crossentropy\",\n",
    "              metrics=[\"accuracy\"])"
   ]
  },
  {
   "cell_type": "code",
   "execution_count": 6,
   "metadata": {},
   "outputs": [
    {
     "name": "stdout",
     "output_type": "stream",
     "text": [
      "Epoch 1/15\n",
      "8/8 [==============================] - 2s 239ms/step - loss: 27.6597 - accuracy: 0.8427\n",
      "Epoch 2/15\n",
      "8/8 [==============================] - 2s 232ms/step - loss: 21.0413 - accuracy: 0.3750\n",
      "Epoch 3/15\n",
      "8/8 [==============================] - 2s 235ms/step - loss: 3.8037 - accuracy: 0.7552\n",
      "Epoch 4/15\n",
      "8/8 [==============================] - 2s 241ms/step - loss: 5.0962 - accuracy: 0.8823\n",
      "Epoch 5/15\n",
      "8/8 [==============================] - 2s 235ms/step - loss: 8.5315 - accuracy: 0.5260\n",
      "Epoch 6/15\n",
      "8/8 [==============================] - 2s 234ms/step - loss: 3.4342 - accuracy: 0.6469\n",
      "Epoch 7/15\n",
      "8/8 [==============================] - 2s 239ms/step - loss: 3.5393 - accuracy: 0.5573\n",
      "Epoch 8/15\n",
      "8/8 [==============================] - 2s 238ms/step - loss: 1.7524 - accuracy: 0.9250\n",
      "Epoch 9/15\n",
      "8/8 [==============================] - 2s 240ms/step - loss: 0.3558 - accuracy: 1.0000\n",
      "Epoch 10/15\n",
      "8/8 [==============================] - 2s 239ms/step - loss: 1.8374 - accuracy: 0.8646\n",
      "Epoch 11/15\n",
      "8/8 [==============================] - 2s 231ms/step - loss: 12.1815 - accuracy: 0.7490\n",
      "Epoch 12/15\n",
      "8/8 [==============================] - 2s 235ms/step - loss: 1.5667 - accuracy: 0.8302\n",
      "Epoch 13/15\n",
      "8/8 [==============================] - 2s 238ms/step - loss: 1.7684 - accuracy: 0.8646\n",
      "Epoch 14/15\n",
      "8/8 [==============================] - 2s 234ms/step - loss: 11.8378 - accuracy: 0.6594\n",
      "Epoch 15/15\n",
      "8/8 [==============================] - 2s 244ms/step - loss: 2.1463 - accuracy: 0.7458\n"
     ]
    }
   ],
   "source": [
    "history = model.fit(train_generator,\n",
    "      steps_per_epoch=8,  \n",
    "      epochs=15,\n",
    "      verbose=1,\n",
    "      validation_data = valid_generator,\n",
    "      validation_steps=8)"
   ]
  },
  {
   "cell_type": "code",
   "execution_count": 7,
   "metadata": {},
   "outputs": [
    {
     "name": "stdout",
     "output_type": "stream",
     "text": [
      "2/2 [==============================] - 0s 71ms/step - loss: 7.3374 - accuracy: 0.4333\n"
     ]
    },
    {
     "data": {
      "text/plain": [
       "[7.33735466003418, 0.4333333373069763]"
      ]
     },
     "execution_count": 7,
     "metadata": {},
     "output_type": "execute_result"
    }
   ],
   "source": [
    "model.evaluate(valid_generator)"
   ]
  },
  {
   "cell_type": "code",
   "execution_count": 12,
   "metadata": {},
   "outputs": [
    {
     "data": {
      "text/plain": [
       "<keras.src.callbacks.History at 0x11b30373d10>"
      ]
     },
     "execution_count": 12,
     "metadata": {},
     "output_type": "execute_result"
    }
   ],
   "source": [
    "\n",
    "plt.plot(history)"
   ]
  }
 ],
 "metadata": {
  "kernelspec": {
   "display_name": "venv",
   "language": "python",
   "name": "python3"
  },
  "language_info": {
   "codemirror_mode": {
    "name": "ipython",
    "version": 3
   },
   "file_extension": ".py",
   "mimetype": "text/x-python",
   "name": "python",
   "nbconvert_exporter": "python",
   "pygments_lexer": "ipython3",
   "version": "3.11.3"
  },
  "orig_nbformat": 4
 },
 "nbformat": 4,
 "nbformat_minor": 2
}
