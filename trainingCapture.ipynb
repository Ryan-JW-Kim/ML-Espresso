{
 "cells": [
  {
   "cell_type": "code",
   "execution_count": 5,
   "metadata": {},
   "outputs": [],
   "source": [
    "import sys\n",
    "# from cluster_manager import Clusters\n",
    "import pickle\n",
    "import numpy as np\n",
    "import struct\n",
    "import socket\n",
    "import cv2\n",
    "import matplotlib.pyplot as plt\n",
    "import os \n",
    "import time\n",
    "host = \"0.0.0.0\"\n",
    "port = 8080"
   ]
  },
  {
   "cell_type": "code",
   "execution_count": 6,
   "metadata": {},
   "outputs": [],
   "source": [
    "s = socket.socket(socket.AF_INET, socket.SOCK_STREAM)\n",
    "s.settimeout(3)\n",
    "s.bind((host, port))\n",
    "s.listen(10)\n",
    "\n",
    "def capture_frame(connection):\n",
    "    data = bytearray()\n",
    "    message_size = struct.calcsize(\"L\")\n",
    "    connection_valid = True\n",
    "\n",
    "    while True:\n",
    "        while len(data) < message_size:\n",
    "            packet = connection.recv(4096)\n",
    "            if packet == b'': \n",
    "                connection_valid = False\n",
    "                break\n",
    "            else: \n",
    "                data += packet\n",
    "        \n",
    "        if connection_valid is False:\n",
    "            break\n",
    "        \n",
    "        data, packed_msg_size = data[message_size:], data[:message_size]\n",
    "        msg_size = struct.unpack(\"L\", packed_msg_size)[0]\n",
    "        \n",
    "        while len(data) < msg_size:            \n",
    "            packet = connection.recv(4096)\n",
    "            if packet == b'': \n",
    "                connection_valid = False\n",
    "                break\n",
    "            else: \n",
    "                data += packet\n",
    "        \n",
    "        if connection_valid is False:\n",
    "            break\n",
    "\n",
    "        data, frame_data = data[msg_size:], data[:msg_size]\n",
    "        frame = pickle.loads(frame_data)\n",
    "        yield frame"
   ]
  },
  {
   "cell_type": "code",
   "execution_count": 9,
   "metadata": {},
   "outputs": [
    {
     "name": "stdout",
     "output_type": "stream",
     "text": [
      "Attempt 0 of 20 (timed out)\n",
      "Attempt 1 of 20 (timed out)\n",
      "Attempt 2 of 20 (timed out)\n",
      "Attempt 3 of 20 (timed out)\n",
      "Attempt 4 of 20 (timed out)\n"
     ]
    }
   ],
   "source": [
    "max_iter = 20\n",
    "save_img = True\n",
    "\n",
    "for iter in range(max_iter):\n",
    "    try:\n",
    "        connection, address = s.accept()\n",
    "        print(f\"Attempt {iter} of {max_iter} (Connected)\")\n",
    "        img_count = 1\n",
    "        for frame in capture_frame(connection):\n",
    "            \n",
    "            cv2.imshow(\"img\", frame)\n",
    "            \n",
    "            if save_img:\n",
    "                with open(f\"Application/iamges/frame/{img_count}\", \"wb\") as fh:\n",
    "                    pickle.dump(frame, fh, pickle.HIGHEST_PROTOCOL)\n",
    "\n",
    "            if cv2.waitKey(1) & 0xFF == ord(\"q\"):\n",
    "                break\n",
    "        \n",
    "            img_count += 1\n",
    "            \n",
    "        cv2.destroyAllWindows()\n",
    "\n",
    "    except Exception as error:\n",
    "        print(f\"Attempt {iter} of {max_iter} ({error})\")\n",
    "        time.sleep(2)"
   ]
  }
 ],
 "metadata": {
  "kernelspec": {
   "display_name": "venv",
   "language": "python",
   "name": "python3"
  },
  "language_info": {
   "codemirror_mode": {
    "name": "ipython",
    "version": 3
   },
   "file_extension": ".py",
   "mimetype": "text/x-python",
   "name": "python",
   "nbconvert_exporter": "python",
   "pygments_lexer": "ipython3",
   "version": "3.11.3"
  },
  "orig_nbformat": 4
 },
 "nbformat": 4,
 "nbformat_minor": 2
}
