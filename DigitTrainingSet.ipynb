{
 "cells": [
  {
   "cell_type": "code",
   "execution_count": 11,
   "metadata": {},
   "outputs": [],
   "source": [
    "%matplotlib inline"
   ]
  },
  {
   "cell_type": "code",
   "execution_count": 22,
   "metadata": {},
   "outputs": [],
   "source": [
    "import numpy as np\n",
    "# import tensorflow as tf\n",
    "# from tensorflow.keras.layers import Dense\n",
    "# from tensorflow.keras.models import Sequential\n",
    "import matplotlib.pyplot as plt\n",
    "import cv2\n",
    "import os\n",
    "from PIL import Image, ImageDraw\n",
    "from random import randint\n",
    "import json"
   ]
  },
  {
   "cell_type": "code",
   "execution_count": 88,
   "metadata": {},
   "outputs": [
    {
     "data": {
      "image/png": "[encoded data removed]",
      "text/plain": [
       "<Figure size 640x480 with 1 Axes>"
      ]
     },
     "metadata": {},
     "output_type": "display_data"
    }
   ],
   "source": [
    "\n",
    "max_digits = 5\n",
    "# source_digits = {\"0\": Image.open(\"training/MASTER/digit_0.png\"),\n",
    "#                  \"1\": Image.open(\"training/MASTER/digit_1.png\"),\n",
    "#                  \"2\": Image.open(\"training/MASTER/digit_2.png\"),\n",
    "#                  \"3\": Image.open(\"training/MASTER/digit_3.png\"),\n",
    "#                  \"4\": Image.open(\"training/MASTER/digit_4.png\"),\n",
    "#                  \"5\": Image.open(\"training/MASTER/digit_5.png\"),\n",
    "#                  \"6\": Image.open(\"training/MASTER/digit_6.png\"),\n",
    "#                  \"7\": Image.open(\"training/MASTER/digit_7.png\"),\n",
    "#                  \"8\": Image.open(\"training/MASTER/digit_8.png\"),\n",
    "#                  \"9\": Image.open(\"training/MASTER/digit_9.png\")}\n",
    "\n",
    "source_digits = {\"0\": Image.open(\"training/MASTER/hq_0.png\"),\n",
    "                 \"1\": Image.open(\"training/MASTER/hq_1.png\"),\n",
    "                 \"2\": Image.open(\"training/MASTER/hq_2.png\"),\n",
    "                 \"3\": Image.open(\"training/MASTER/hq_3.png\"),\n",
    "                 \"4\": Image.open(\"training/MASTER/hq_4.png\"),\n",
    "                 \"5\": Image.open(\"training/MASTER/hq_5.png\"),\n",
    "                 \"6\": Image.open(\"training/MASTER/hq_6.png\"),\n",
    "                 \"7\": Image.open(\"training/MASTER/hq_7.png\"),\n",
    "                 \"8\": Image.open(\"training/MASTER/hq_8.png\"),\n",
    "                 \"9\": Image.open(\"training/MASTER/hq_9.png\")}\n",
    "\n",
    "bionare_sensor_background = Image.open(\"training/MASTER/bionare_background.png\")\n",
    "\n",
    "plt.imshow(source_digits[\"0\"])\n",
    "plt.show()"
   ]
  },
  {
   "cell_type": "code",
   "execution_count": 89,
   "metadata": {},
   "outputs": [
    {
     "data": {
      "image/png": "[encoded data removed]",
      "text/plain": [
       "<PIL.Image.Image image mode=RGBA size=50x25>"
      ]
     },
     "execution_count": 89,
     "metadata": {},
     "output_type": "execute_result"
    }
   ],
   "source": [
    "def create_digits_image(target_int, target_width, target_height, target_rotation, background):\n",
    "    segments = list(str(target_int))\n",
    "\n",
    "    width = 0\n",
    "    height = 0\n",
    "    for segment in segments:\n",
    "        w, h = source_digits[segment].size\n",
    "        width += w\n",
    "        height = max(height, h)\n",
    "\n",
    "    canvas = Image.new(\"RGB\", (width, height))\n",
    "    canvas.paste(background, (0,0))\n",
    "    \n",
    "    x_shift = 0\n",
    "    for digit in segments:\n",
    "        img = source_digits[digit]\n",
    "        canvas.paste(img, (x_shift,0), img.convert(\"RGBA\"))\n",
    "        x_shift += img.width\n",
    "\n",
    "\n",
    "    canvas = canvas.convert(\"RGBA\").rotate(target_rotation, expand=True)\n",
    "    canvas = canvas.resize((target_width, target_height), Image.Resampling.LANCZOS)\n",
    "\n",
    "    return canvas\n",
    "\n",
    "create_digits_image(12, 50,  25, 10, bionare_sensor_background)"
   ]
  },
  {
   "cell_type": "code",
   "execution_count": 96,
   "metadata": {},
   "outputs": [
    {
     "ename": "FileNotFoundError",
     "evalue": "[Errno 2] No such file or directory: 'training/HumiditySensor/backgrounds/2/img.png'",
     "output_type": "error",
     "traceback": [
      "\u001b[1;31m---------------------------------------------------------------------------\u001b[0m",
      "\u001b[1;31mFileNotFoundError\u001b[0m                         Traceback (most recent call last)",
      "Cell \u001b[1;32mIn[96], line 22\u001b[0m\n\u001b[0;32m     20\u001b[0m     plt\u001b[39m.\u001b[39mimshow(source_image)\n\u001b[0;32m     21\u001b[0m     plt\u001b[39m.\u001b[39mshow()\n\u001b[1;32m---> 22\u001b[0m generate_humidity_training(\u001b[39m12\u001b[39;49m)\n",
      "Cell \u001b[1;32mIn[96], line 6\u001b[0m, in \u001b[0;36mgenerate_humidity_training\u001b[1;34m(target_int)\u001b[0m\n\u001b[0;32m      4\u001b[0m backgrounds \u001b[39m=\u001b[39m os\u001b[39m.\u001b[39mlistdir(path)\n\u001b[0;32m      5\u001b[0m background \u001b[39m=\u001b[39m backgrounds[randint(\u001b[39m0\u001b[39m, \u001b[39mlen\u001b[39m(backgrounds)\u001b[39m-\u001b[39m\u001b[39m1\u001b[39m)]\n\u001b[1;32m----> 6\u001b[0m source_image \u001b[39m=\u001b[39m Image\u001b[39m.\u001b[39;49mopen(\u001b[39mf\u001b[39;49m\u001b[39m\"\u001b[39;49m\u001b[39m{\u001b[39;49;00mpath\u001b[39m}\u001b[39;49;00m\u001b[39m/\u001b[39;49m\u001b[39m{\u001b[39;49;00mbackground\u001b[39m}\u001b[39;49;00m\u001b[39m/img.png\u001b[39;49m\u001b[39m\"\u001b[39;49m)\n\u001b[0;32m      7\u001b[0m \u001b[39mwith\u001b[39;00m \u001b[39mopen\u001b[39m(\u001b[39mf\u001b[39m\u001b[39m\"\u001b[39m\u001b[39m{\u001b[39;00mpath\u001b[39m}\u001b[39;00m\u001b[39m/\u001b[39m\u001b[39m{\u001b[39;00mbackground\u001b[39m}\u001b[39;00m\u001b[39m/pose.json\u001b[39m\u001b[39m\"\u001b[39m, \u001b[39m\"\u001b[39m\u001b[39mr\u001b[39m\u001b[39m\"\u001b[39m) \u001b[39mas\u001b[39;00m fh:\n\u001b[0;32m      8\u001b[0m     pose \u001b[39m=\u001b[39m json\u001b[39m.\u001b[39mload(fh)\n",
      "File \u001b[1;32mc:\\Users\\RjKim\\dev\\venv\\Lib\\site-packages\\PIL\\Image.py:3131\u001b[0m, in \u001b[0;36mopen\u001b[1;34m(fp, mode, formats)\u001b[0m\n\u001b[0;32m   3128\u001b[0m     filename \u001b[39m=\u001b[39m fp\n\u001b[0;32m   3130\u001b[0m \u001b[39mif\u001b[39;00m filename:\n\u001b[1;32m-> 3131\u001b[0m     fp \u001b[39m=\u001b[39m builtins\u001b[39m.\u001b[39mopen(filename, \u001b[39m\"\u001b[39m\u001b[39mrb\u001b[39m\u001b[39m\"\u001b[39m)\n\u001b[0;32m   3132\u001b[0m     exclusive_fp \u001b[39m=\u001b[39m \u001b[39mTrue\u001b[39;00m\n\u001b[0;32m   3134\u001b[0m \u001b[39mtry\u001b[39;00m:\n",
      "\u001b[1;31mFileNotFoundError\u001b[0m: [Errno 2] No such file or directory: 'training/HumiditySensor/backgrounds/2/img.png'"
     ]
    }
   ],
   "source": [
    "def generate_humidity_training(target_int):\n",
    "    \n",
    "    path = \"training/HumiditySensor/backgrounds\"\n",
    "    backgrounds = os.listdir(path)\n",
    "    background = backgrounds[randint(0, len(backgrounds)-1)]\n",
    "    source_image = Image.open(f\"{path}/{background}/img.png\")\n",
    "    with open(f\"{path}/{background}/pose.json\", \"r\") as fh:\n",
    "        pose = json.load(fh)\n",
    "    \n",
    "    x, y = pose[\"x\"], pose[\"y\"]\n",
    "    target_rotation = pose[\"rotate\"]\n",
    "\n",
    "    digits = create_digits_image(target_int, 40, 25, target_rotation, bionare_sensor_background)\n",
    "\n",
    "    digits = digits.rotate(target_rotation)\n",
    "    source_image.paste(digits, (x, y), digits.convert(\"RGBA\"))\n",
    "\n",
    "    source_image.save(f\"training/HumiditySensor/outputs/{target_int}.png\")\n",
    "\n",
    "    plt.imshow(source_image)\n",
    "    plt.show()\n",
    "generate_humidity_training(12)"
   ]
  },
  {
   "cell_type": "code",
   "execution_count": null,
   "metadata": {},
   "outputs": [],
   "source": [
    "def generate_ambient_temp_training(target_int):\n",
    "    pass"
   ]
  },
  {
   "cell_type": "code",
   "execution_count": null,
   "metadata": {},
   "outputs": [],
   "source": [
    "def generate_weight_training(target_int):\n",
    "    pass"
   ]
  }
 ],
 "metadata": {
  "kernelspec": {
   "display_name": "venv",
   "language": "python",
   "name": "python3"
  },
  "language_info": {
   "codemirror_mode": {
    "name": "ipython",
    "version": 3
   },
   "file_extension": ".py",
   "mimetype": "text/x-python",
   "name": "python",
   "nbconvert_exporter": "python",
   "pygments_lexer": "ipython3",
   "version": "3.11.3"
  },
  "orig_nbformat": 4
 },
 "nbformat": 4,
 "nbformat_minor": 2
}
